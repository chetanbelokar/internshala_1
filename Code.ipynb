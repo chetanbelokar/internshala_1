{
 "cells": [
  {
   "cell_type": "markdown",
   "id": "8d4e9b87",
   "metadata": {},
   "source": [
    "## Required Libraries"
   ]
  },
  {
   "cell_type": "code",
   "execution_count": 1,
   "id": "6a55ce66",
   "metadata": {},
   "outputs": [],
   "source": [
    "import pandas as pd\n",
    "import numpy as np\n",
    "from urllib.request import urlopen, Request\n",
    "import re\n",
    "import requests\n",
    "from bs4 import BeautifulSoup"
   ]
  },
  {
   "cell_type": "markdown",
   "id": "c6e600f4",
   "metadata": {},
   "source": [
    "## Given Url"
   ]
  },
  {
   "cell_type": "code",
   "execution_count": 4,
   "id": "ec22b481",
   "metadata": {},
   "outputs": [],
   "source": [
    "url = r\"https://www.amazon.in/s?k=bags&crid=2M096C61O4MLT&qid=1653308124&sprefix=ba%2Caps%2C283&ref=sr_pg_1\""
   ]
  },
  {
   "cell_type": "markdown",
   "id": "851f47f2",
   "metadata": {},
   "source": [
    "## Data Ectraction"
   ]
  },
  {
   "cell_type": "code",
   "execution_count": 5,
   "id": "71ff6335",
   "metadata": {},
   "outputs": [],
   "source": [
    "req = Request(url)\n",
    "rawpage = urlopen(req).read().decode()"
   ]
  },
  {
   "cell_type": "code",
   "execution_count": 6,
   "id": "818d2080",
   "metadata": {},
   "outputs": [],
   "source": [
    "soup = BeautifulSoup(rawpage, 'html.parser')"
   ]
  },
  {
   "cell_type": "code",
   "execution_count": 8,
   "id": "8e992df4",
   "metadata": {},
   "outputs": [],
   "source": [
    "div_list = soup.find_all('div', {\"data-component-type\": \"s-search-result\"})"
   ]
  },
  {
   "cell_type": "code",
   "execution_count": 13,
   "id": "25614a49",
   "metadata": {},
   "outputs": [],
   "source": [
    "URL_list = []\n",
    "Name_list = []\n",
    "Product_Price = []\n",
    "Rating_list = []\n",
    "Reviews_number_list = []\n",
    "asin_list = []\n",
    "\n",
    "def data_extraction(data):\n",
    "    base_url = data.h2.a['href']\n",
    "\n",
    "    final_url = 'https://www.amazon.in' + base_url \n",
    "    URL_list.append(final_url)\n",
    "    \n",
    "    name = data.find('span', {'class':\"a-size-medium a-color-base a-text-normal\"}).text\n",
    "    Name_list.append(name)\n",
    "    \n",
    "    price = data.find('span',{'class':\"a-price-whole\"}).text\n",
    "    price = int(re.sub('[,()]', '',price))\n",
    "    Product_Price.append(price)\n",
    "    \n",
    "    rating = data.find('span',{'class':\"a-icon-alt\" }).text\n",
    "    rating = float(rating[:3])\n",
    "    Rating_list.append(rating)\n",
    "\n",
    "    review = data.find('span',{'class' : \"a-size-base s-underline-text\" }).text\n",
    "    review = int(re.sub('[,()]', '',review))\n",
    "    Reviews_number_list.append(review)\n",
    "    \n",
    "    x = str(data)\n",
    "    asin =  re.findall('data-asin=(.*?) data-component-type',x)[0][1:-1]\n",
    "    asin_list.append(asin)\n",
    "\n",
    "\n",
    "#     print(final_url,'\\n',name,'\\n',price,'\\n',review,'\\n',rating)"
   ]
  },
  {
   "cell_type": "code",
   "execution_count": 14,
   "id": "8eca1aca",
   "metadata": {},
   "outputs": [],
   "source": [
    "for i in div_list:\n",
    "    data_extraction(i)"
   ]
  },
  {
   "cell_type": "markdown",
   "id": "91378c58",
   "metadata": {},
   "source": [
    "## Create links to go on multiple pages"
   ]
  },
  {
   "cell_type": "code",
   "execution_count": 15,
   "id": "a21b1210",
   "metadata": {},
   "outputs": [],
   "source": [
    "link_list = []\n",
    "for i in range(2,25):\n",
    "    link = f'https://www.amazon.in/s?k=bags&page=4&crid=2M096C61O4MLT&qid=1675400625&sprefix=ba%2Caps%2C283&ref=sr_pg_{i}'\n",
    "    link_list.append(link)"
   ]
  },
  {
   "cell_type": "markdown",
   "id": "6b84a625",
   "metadata": {},
   "source": [
    "## Data Extractin from multiple pages"
   ]
  },
  {
   "cell_type": "code",
   "execution_count": 38,
   "id": "739e6578",
   "metadata": {},
   "outputs": [],
   "source": [
    "soup_list = []\n",
    "for i in link_list:\n",
    "    print(i)\n",
    "    req = Request(i)\n",
    "    rawpage = urlopen(req).read().decode()\n",
    "\n",
    "    soup = BeautifulSoup(htmlContent, 'html.parser')\n",
    "    soup_list.append(soup)"
   ]
  },
  {
   "cell_type": "code",
   "execution_count": 31,
   "id": "06dd895c",
   "metadata": {},
   "outputs": [],
   "source": [
    "list_of_div_list = []\n",
    "for i in soup_list:\n",
    "    div_list = i.find_all('div', {\"data-component-type\": \"s-search-result\"})\n",
    "    list_of_div_list.append(div_list)"
   ]
  },
  {
   "cell_type": "code",
   "execution_count": 33,
   "id": "b0e2d494",
   "metadata": {},
   "outputs": [],
   "source": [
    "for i in list_of_div_list:\n",
    "    for j in i:\n",
    "        data_extraction(j)"
   ]
  },
  {
   "cell_type": "markdown",
   "id": "9497d91c",
   "metadata": {},
   "source": [
    "## Creating DataFrame"
   ]
  },
  {
   "cell_type": "code",
   "execution_count": 40,
   "id": "4fe3a6e1",
   "metadata": {},
   "outputs": [],
   "source": [
    "df = pd.DataFrame({'Product_URL' : URL_list,'Product_Name' : Name_list,  'Product_Price' : Product_Price,\n",
    "                   'Rating_list' : Rating_list ,'Number_of_reviews' : Reviews_number_list, 'ASIN' : asin_list})"
   ]
  },
  {
   "cell_type": "markdown",
   "id": "74b4df07",
   "metadata": {},
   "source": [
    "## Save to CSV file"
   ]
  },
  {
   "cell_type": "code",
   "execution_count": 42,
   "id": "c6ca47e7",
   "metadata": {},
   "outputs": [],
   "source": [
    "df.to_csv('Output.csv')"
   ]
  }
 ],
 "metadata": {
  "kernelspec": {
   "display_name": "Python 3 (ipykernel)",
   "language": "python",
   "name": "python3"
  },
  "language_info": {
   "codemirror_mode": {
    "name": "ipython",
    "version": 3
   },
   "file_extension": ".py",
   "mimetype": "text/x-python",
   "name": "python",
   "nbconvert_exporter": "python",
   "pygments_lexer": "ipython3",
   "version": "3.10.4"
  }
 },
 "nbformat": 4,
 "nbformat_minor": 5
}
